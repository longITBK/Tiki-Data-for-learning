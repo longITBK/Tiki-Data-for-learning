{
 "cells": [
  {
   "cell_type": "code",
   "execution_count": 135,
   "metadata": {},
   "outputs": [],
   "source": [
    "import pandas as pd\n",
    "import numpy as np\n",
    "import matplotlib.pyplot as plt\n",
    "import seaborn as sns"
   ]
  },
  {
   "attachments": {},
   "cell_type": "markdown",
   "metadata": {},
   "source": [
    "#### Đọc vào dataset"
   ]
  },
  {
   "cell_type": "code",
   "execution_count": 136,
   "metadata": {},
   "outputs": [],
   "source": [
    "df = pd.read_csv('SmallDS.csv')\n"
   ]
  },
  {
   "attachments": {},
   "cell_type": "markdown",
   "metadata": {},
   "source": [
    "<h1 style=\"color:white;background-color:rgb(234, 93, 77);padding:10px; border-radius:10px; text-align:center\"> Các thống kê cơ bản </h1>"
   ]
  },
  {
   "cell_type": "code",
   "execution_count": 137,
   "metadata": {},
   "outputs": [
    {
     "data": {
      "text/html": [
       "<div>\n",
       "<style scoped>\n",
       "    .dataframe tbody tr th:only-of-type {\n",
       "        vertical-align: middle;\n",
       "    }\n",
       "\n",
       "    .dataframe tbody tr th {\n",
       "        vertical-align: top;\n",
       "    }\n",
       "\n",
       "    .dataframe thead th {\n",
       "        text-align: right;\n",
       "    }\n",
       "</style>\n",
       "<table border=\"1\" class=\"dataframe\">\n",
       "  <thead>\n",
       "    <tr style=\"text-align: right;\">\n",
       "      <th></th>\n",
       "      <th>id</th>\n",
       "      <th>name</th>\n",
       "      <th>brand</th>\n",
       "      <th>original_price</th>\n",
       "      <th>discount</th>\n",
       "      <th>current_price</th>\n",
       "      <th>discount_rate</th>\n",
       "      <th>quantity_sold</th>\n",
       "      <th>rating_average</th>\n",
       "      <th>product_review_count</th>\n",
       "      <th>seller_id</th>\n",
       "      <th>seller_name</th>\n",
       "      <th>days_since_joined</th>\n",
       "      <th>seller_rating_average</th>\n",
       "      <th>is_official</th>\n",
       "      <th>seller_review_count</th>\n",
       "      <th>total_follower</th>\n",
       "    </tr>\n",
       "  </thead>\n",
       "  <tbody>\n",
       "    <tr>\n",
       "      <th>0</th>\n",
       "      <td>31638135</td>\n",
       "      <td>Combo 4 quần lót nam Boxer sợi cạp 1cm sợ...</td>\n",
       "      <td>MRM Manlywear</td>\n",
       "      <td>340000</td>\n",
       "      <td>85000</td>\n",
       "      <td>255000</td>\n",
       "      <td>25</td>\n",
       "      <td>4281</td>\n",
       "      <td>4.7</td>\n",
       "      <td>1167</td>\n",
       "      <td>55147</td>\n",
       "      <td>MRM Manlywear Official</td>\n",
       "      <td>1412</td>\n",
       "      <td>4.7070</td>\n",
       "      <td>True</td>\n",
       "      <td>11633</td>\n",
       "      <td>2943</td>\n",
       "    </tr>\n",
       "    <tr>\n",
       "      <th>1</th>\n",
       "      <td>172210350</td>\n",
       "      <td>Hộp 4 quần boxer nam thun lạnh, quần lót nam c...</td>\n",
       "      <td>ARADO FASHION</td>\n",
       "      <td>199000</td>\n",
       "      <td>41000</td>\n",
       "      <td>158000</td>\n",
       "      <td>21</td>\n",
       "      <td>625</td>\n",
       "      <td>4.8</td>\n",
       "      <td>158</td>\n",
       "      <td>17914</td>\n",
       "      <td>FORMEN SHOP</td>\n",
       "      <td>1599</td>\n",
       "      <td>4.5441</td>\n",
       "      <td>False</td>\n",
       "      <td>4558</td>\n",
       "      <td>2041</td>\n",
       "    </tr>\n",
       "    <tr>\n",
       "      <th>2</th>\n",
       "      <td>79435123</td>\n",
       "      <td>Áo chống nắng nam cao cấp, thông hơi, chống nắ...</td>\n",
       "      <td>OEM</td>\n",
       "      <td>215000</td>\n",
       "      <td>86000</td>\n",
       "      <td>129000</td>\n",
       "      <td>40</td>\n",
       "      <td>1010</td>\n",
       "      <td>4.7</td>\n",
       "      <td>263</td>\n",
       "      <td>17914</td>\n",
       "      <td>FORMEN SHOP</td>\n",
       "      <td>1599</td>\n",
       "      <td>4.5441</td>\n",
       "      <td>False</td>\n",
       "      <td>4558</td>\n",
       "      <td>2041</td>\n",
       "    </tr>\n",
       "    <tr>\n",
       "      <th>3</th>\n",
       "      <td>31637590</td>\n",
       "      <td>Combo 4 quần lót nam tam giác Bamboo Organi...</td>\n",
       "      <td>MRM Manlywear</td>\n",
       "      <td>340000</td>\n",
       "      <td>91000</td>\n",
       "      <td>249000</td>\n",
       "      <td>27</td>\n",
       "      <td>2765</td>\n",
       "      <td>4.7</td>\n",
       "      <td>761</td>\n",
       "      <td>55147</td>\n",
       "      <td>MRM Manlywear Official</td>\n",
       "      <td>1412</td>\n",
       "      <td>4.7070</td>\n",
       "      <td>True</td>\n",
       "      <td>11633</td>\n",
       "      <td>2943</td>\n",
       "    </tr>\n",
       "    <tr>\n",
       "      <th>4</th>\n",
       "      <td>99958075</td>\n",
       "      <td>Quần đùi short gió nam thể thao Basic trẻ...</td>\n",
       "      <td>MRM Manlywear</td>\n",
       "      <td>199000</td>\n",
       "      <td>70000</td>\n",
       "      <td>129000</td>\n",
       "      <td>35</td>\n",
       "      <td>2202</td>\n",
       "      <td>4.7</td>\n",
       "      <td>452</td>\n",
       "      <td>55147</td>\n",
       "      <td>MRM Manlywear Official</td>\n",
       "      <td>1412</td>\n",
       "      <td>4.7070</td>\n",
       "      <td>True</td>\n",
       "      <td>11633</td>\n",
       "      <td>2943</td>\n",
       "    </tr>\n",
       "  </tbody>\n",
       "</table>\n",
       "</div>"
      ],
      "text/plain": [
       "          id                                               name   \n",
       "0   31638135  Combo 4 quần lót nam Boxer sợi cạp 1cm sợ...  \\\n",
       "1  172210350  Hộp 4 quần boxer nam thun lạnh, quần lót nam c...   \n",
       "2   79435123  Áo chống nắng nam cao cấp, thông hơi, chống nắ...   \n",
       "3   31637590  Combo 4 quần lót nam tam giác Bamboo Organi...   \n",
       "4   99958075  Quần đùi short gió nam thể thao Basic trẻ...   \n",
       "\n",
       "           brand  original_price  discount  current_price  discount_rate   \n",
       "0  MRM Manlywear          340000     85000         255000             25  \\\n",
       "1  ARADO FASHION          199000     41000         158000             21   \n",
       "2            OEM          215000     86000         129000             40   \n",
       "3  MRM Manlywear          340000     91000         249000             27   \n",
       "4  MRM Manlywear          199000     70000         129000             35   \n",
       "\n",
       "   quantity_sold  rating_average  product_review_count  seller_id   \n",
       "0           4281             4.7                  1167      55147  \\\n",
       "1            625             4.8                   158      17914   \n",
       "2           1010             4.7                   263      17914   \n",
       "3           2765             4.7                   761      55147   \n",
       "4           2202             4.7                   452      55147   \n",
       "\n",
       "              seller_name  days_since_joined  seller_rating_average   \n",
       "0  MRM Manlywear Official               1412                 4.7070  \\\n",
       "1             FORMEN SHOP               1599                 4.5441   \n",
       "2             FORMEN SHOP               1599                 4.5441   \n",
       "3  MRM Manlywear Official               1412                 4.7070   \n",
       "4  MRM Manlywear Official               1412                 4.7070   \n",
       "\n",
       "   is_official  seller_review_count  total_follower  \n",
       "0         True                11633            2943  \n",
       "1        False                 4558            2041  \n",
       "2        False                 4558            2041  \n",
       "3         True                11633            2943  \n",
       "4         True                11633            2943  "
      ]
     },
     "execution_count": 137,
     "metadata": {},
     "output_type": "execute_result"
    }
   ],
   "source": [
    "df.head()"
   ]
  },
  {
   "cell_type": "code",
   "execution_count": 138,
   "metadata": {},
   "outputs": [
    {
     "name": "stdout",
     "output_type": "stream",
     "text": [
      "<class 'pandas.core.frame.DataFrame'>\n",
      "RangeIndex: 1000 entries, 0 to 999\n",
      "Data columns (total 17 columns):\n",
      " #   Column                 Non-Null Count  Dtype  \n",
      "---  ------                 --------------  -----  \n",
      " 0   id                     1000 non-null   int64  \n",
      " 1   name                   1000 non-null   object \n",
      " 2   brand                  1000 non-null   object \n",
      " 3   original_price         1000 non-null   int64  \n",
      " 4   discount               1000 non-null   int64  \n",
      " 5   current_price          1000 non-null   int64  \n",
      " 6   discount_rate          1000 non-null   int64  \n",
      " 7   quantity_sold          1000 non-null   int64  \n",
      " 8   rating_average         1000 non-null   float64\n",
      " 9   product_review_count   1000 non-null   int64  \n",
      " 10  seller_id              1000 non-null   int64  \n",
      " 11  seller_name            1000 non-null   object \n",
      " 12  days_since_joined      1000 non-null   int64  \n",
      " 13  seller_rating_average  1000 non-null   float64\n",
      " 14  is_official            1000 non-null   bool   \n",
      " 15  seller_review_count    1000 non-null   int64  \n",
      " 16  total_follower         1000 non-null   int64  \n",
      "dtypes: bool(1), float64(2), int64(11), object(3)\n",
      "memory usage: 126.1+ KB\n"
     ]
    }
   ],
   "source": [
    "df.info()"
   ]
  },
  {
   "attachments": {},
   "cell_type": "markdown",
   "metadata": {},
   "source": [
    "Dùng original_price, price, discount, rating_average, quantity_sold -> predict price"
   ]
  },
  {
   "cell_type": "code",
   "execution_count": 139,
   "metadata": {},
   "outputs": [
    {
     "data": {
      "text/plain": [
       "brand\n",
       "OEM              437\n",
       "KHATOCO           62\n",
       "GOKING            29\n",
       "5S                26\n",
       "MRM Manlywear     25\n",
       "                ... \n",
       "Fezzio             1\n",
       "Gumac              1\n",
       "MAYHOMES           1\n",
       "BAMI HOME          1\n",
       "Redikick           1\n",
       "Name: count, Length: 114, dtype: int64"
      ]
     },
     "execution_count": 139,
     "metadata": {},
     "output_type": "execute_result"
    }
   ],
   "source": [
    "df['brand'].value_counts()"
   ]
  },
  {
   "attachments": {},
   "cell_type": "markdown",
   "metadata": {},
   "source": [
    "### Kiểm tra có dữ liệu trống hay không ?"
   ]
  },
  {
   "cell_type": "code",
   "execution_count": 140,
   "metadata": {},
   "outputs": [
    {
     "data": {
      "text/plain": [
       "id                       0\n",
       "name                     0\n",
       "brand                    0\n",
       "original_price           0\n",
       "discount                 0\n",
       "current_price            0\n",
       "discount_rate            0\n",
       "quantity_sold            0\n",
       "rating_average           0\n",
       "product_review_count     0\n",
       "seller_id                0\n",
       "seller_name              0\n",
       "days_since_joined        0\n",
       "seller_rating_average    0\n",
       "is_official              0\n",
       "seller_review_count      0\n",
       "total_follower           0\n",
       "dtype: int64"
      ]
     },
     "execution_count": 140,
     "metadata": {},
     "output_type": "execute_result"
    }
   ],
   "source": [
    "df.isnull().sum()"
   ]
  },
  {
   "attachments": {},
   "cell_type": "markdown",
   "metadata": {},
   "source": [
    "<p style=\"color:purple; font-weight:bold\"> => API khi respond về có các mẫu bị trống dữ liệu nhưng đã được lược bỏ đi, không đưa vào dataset </p>"
   ]
  },
  {
   "attachments": {},
   "cell_type": "markdown",
   "metadata": {},
   "source": [
    "<h1 style=\"color:white;background-color:rgb(234, 93, 77);padding:10px; border-radius:10px; text-align:center\"> Khám phá dữ liệu có gì ? </h1>"
   ]
  },
  {
   "attachments": {},
   "cell_type": "markdown",
   "metadata": {},
   "source": [
    "## So sánh giá ban đầu và giá đã giảm"
   ]
  },
  {
   "cell_type": "code",
   "execution_count": 141,
   "metadata": {},
   "outputs": [
    {
     "name": "stderr",
     "output_type": "stream",
     "text": [
      "C:\\Users\\ADMIN\\AppData\\Local\\Temp\\ipykernel_7888\\4042076913.py:3: FutureWarning: \n",
      "\n",
      "`shade` is now deprecated in favor of `fill`; setting `fill=True`.\n",
      "This will become an error in seaborn v0.14.0; please update your code.\n",
      "\n",
      "  ax = sns.kdeplot(df.original_price, color='gray', shade=True, label='Original')\n",
      "C:\\Users\\ADMIN\\AppData\\Local\\Temp\\ipykernel_7888\\4042076913.py:4: FutureWarning: \n",
      "\n",
      "`shade` is now deprecated in favor of `fill`; setting `fill=True`.\n",
      "This will become an error in seaborn v0.14.0; please update your code.\n",
      "\n",
      "  ax = sns.kdeplot(df.current_price, color='blue', shade=True, label='Current')\n"
     ]
    },
    {
     "data": {
      "image/png": "[encoded data removed]",
      "text/plain": [
       "<Figure size 800x500 with 1 Axes>"
      ]
     },
     "metadata": {},
     "output_type": "display_data"
    }
   ],
   "source": [
    "fig = plt.subplots(figsize=(8, 5))\n",
    "\n",
    "ax = sns.kdeplot(df.original_price, color='gray', shade=True, label='Original')\n",
    "ax = sns.kdeplot(df.current_price, color='blue', shade=True, label='Current')\n",
    "\n",
    "plt.xlabel('price')\n",
    "plt.title('Density of Original and Current Price')\n",
    "plt.legend()\n",
    "plt.show()"
   ]
  },
  {
   "attachments": {},
   "cell_type": "markdown",
   "metadata": {},
   "source": [
    "<p style=\"color:violet; font-weight:bold\"> - Phần lớn giá đồ dùng thời trang thường dưới mức 1.000.000 VNĐ, các sản phẩm loanh quanh dưới 500.00 VNĐ rất nhiều (phần lớn là khoảng vài trăm) </p>"
   ]
  },
  {
   "attachments": {},
   "cell_type": "markdown",
   "metadata": {},
   "source": [
    "## Đánh giá càng tốt, càng bán chạy ?"
   ]
  },
  {
   "attachments": {},
   "cell_type": "markdown",
   "metadata": {},
   "source": [
    "> VẼ scatter plot"
   ]
  },
  {
   "cell_type": "code",
   "execution_count": 142,
   "metadata": {},
   "outputs": [
    {
     "data": {
      "image/png": "[encoded data removed]",
      "text/plain": [
       "<Figure size 800x500 with 1 Axes>"
      ]
     },
     "metadata": {},
     "output_type": "display_data"
    }
   ],
   "source": [
    "fig = plt.subplots(figsize=(8, 5))\n",
    "\n",
    "ax=sns.scatterplot(data=df, x='quantity_sold', y='rating_average')\n",
    "\n",
    "plt.xlabel('Đã bán')\n",
    "plt.ylabel('Đánh giá')\n",
    "plt.title('Biểu đồ phân tán của số lượng đã bán theo mức độ đánh giá sản phẩm')\n",
    "plt.show()"
   ]
  },
  {
   "attachments": {},
   "cell_type": "markdown",
   "metadata": {},
   "source": [
    "<p style=\"color:red; font-weight:normal\"> * Mặc dù có nhiều sản phẩm có mức độ đánh giá rất cao nhưng bán được cũng rất ít </p>\n",
    "<p style=\"color:red; font-weight:normal\"> * Các sản phẩm bán chạy có mức độ đánh giá khoảng từ 4.0 đến 5.0 </p> \n",
    "<p style=\"color:red; font-weight:bold\">     => còn phụ thuộc vào số lượng đánh giá của sản phẩm nhận được và độ uy tín của người bán </p>"
   ]
  },
  {
   "attachments": {},
   "cell_type": "markdown",
   "metadata": {},
   "source": [
    "## Những sản phẩm bán chạy nhất"
   ]
  },
  {
   "attachments": {},
   "cell_type": "markdown",
   "metadata": {},
   "source": [
    "> Giao của rating_average, product_review_count, quantity_sold + Show ra table của các sản phẩm này (top 100)"
   ]
  },
  {
   "cell_type": "code",
   "execution_count": 143,
   "metadata": {},
   "outputs": [],
   "source": [
    "def sort_product_by_col(col):\n",
    "    res = df.groupby('id')[col].max().sort_values(ascending=False).index.tolist()\n",
    "    return res"
   ]
  },
  {
   "cell_type": "code",
   "execution_count": 144,
   "metadata": {},
   "outputs": [
    {
     "name": "stdout",
     "output_type": "stream",
     "text": [
      "[251773296, 200927239, 86127619, 198320889, 198364769, 198518796, 198584661, 198650949, 198934502, 199679659, 151801252, 201119038, 198211399, 201292581, 201359185, 201853386, 174178053, 80973417, 201866940, 79396134, 152334968, 202020706, 176250783, 176301618, 67493148, 91861046, 147444853, 196370019, 147672967, 196856850, 93968595, 147937982, 92393846, 91935441, 196898067, 197170229, 87550402, 148337861, 197633193, 198099838, 198100134, 198112625, 89687135, 89631305, 198123072, 87967105, 77916015, 202038040, 77868132, 205968893, 73218325, 156000684, 204053479, 204914749, 205187503, 172919020, 172327845, 205297516, 205299392, 205993470, 77715371, 160417810, 160845877, 207269736, 160883985, 172282030, 67516826, 67516630, 67516618, 67516385, 204043794, 203952537, 155494342, 74493672, 77600983, 202383625, 202518134, 76596135, 153677777, 203115271, 76166657, 203197390, 154298071, 203490964, 75769500, 75767748, 154917738, 203821053, 203914610, 154921520, 203930800, 203951603, 74595348, 147444252, 169331344, 147443968, 109783750, 188947837, 189189863, 189339344, 189472256, 111560211, 111477677, 111116039, 110938120, 134389910, 109567299, 192200972, 190596198, 190681654, 190701435, 136780254, 182743167, 107653503, 191657368, 191695052, 192184633, 184035306, 112086654, 188916034, 113912954, 184520990, 186575311, 119056035, 118089982, 118028145, 117684777, 126729205, 116999782, 128319966, 116255598, 128924251, 128928336, 129301004, 188382295, 115124831, 188382429, 188388980, 114318589, 184327303, 106331935, 192812500, 147442802, 195303957, 100369760, 100368658, 99834771, 99834661, 177713082, 99489061, 99488537, 145030469, 195249311, 195715078, 105950277, 98902559, 98874476, 177252011, 195949063, 98623706, 146265626, 97932647, 196184514, 176696972, 194374377, 100529670, 101409664, 101639788, 193165296, 193184159, 138750999, 180959054, 140175345, 193423711, 140865500, 180391430, 141309645, 142781435, 193432796, 193504415, 193738850, 178593350, 101976643, 101956996, 193993541, 194005560, 194042805, 67516297, 76165828, 207559226, 216356961, 20518200, 207559379, 169744775, 216125972, 212036821, 212036710, 162354106, 220669527, 53303583, 162177481, 19739465, 217735534, 165219220, 223767624, 225916989, 210938562, 163919880, 20673311, 217513558, 32148688, 165678696, 55084832, 164311146, 20518837, 162093835, 20525859, 220666598, 214095571, 20527249, 20526245, 20526198, 214927584, 219151469, 20525986, 20525982, 20525977, 171661419, 212566697, 213985136, 213853741, 213711485, 20521761, 213681699, 162865673, 215903778, 50328037, 50329317, 215999697, 229735142, 54762372, 210439226, 7597489, 235853304, 248251433, 208125217, 217147824, 167618839, 31201905, 248775535, 248802760, 217167501, 248935388, 168224759, 30685141, 58362412, 249206954, 249246585, 63037905, 217176699, 207946158, 207774021, 7078807, 249965662, 30764036, 67026871, 207772078, 247898513, 216371453, 214864204, 208622916, 14997350, 167035484, 14764581, 242405908, 161539871, 242091856, 169568347, 163888596, 208652847, 217275832, 217176750, 242407550, 209102632, 208446974, 161556334, 163713265, 243098658, 56041700, 99305849, 195882188, 21168011, 164082610, 21436280, 145263868, 195192891, 99968881, 30030737, 195569781, 171544701, 22158405, 171106376, 196313090, 164309408, 217807222, 181114062, 144146564, 134529805, 109956995, 110112308, 110309352, 189604016, 189152786, 132234215, 188566676, 13533669, 114671372, 167420405, 167426128, 115981814, 9820605, 117902589, 187768274, 118973485, 126040231, 134401252, 222665357, 20534154, 136792823, 20534141, 103076103, 20526108, 179563185, 20525931, 20521995, 193423083, 139463686, 20521578, 20521238, 20518591, 169747104, 20518214, 20518143, 107324722, 107453690, 181806714, 95071979, 30763873, 30763890, 162500661, 54711023, 124863665, 54583055, 53302423, 162389118, 77917827, 78488223, 162526851, 54762383, 80194222, 163029309, 174178607, 200816447, 82819910, 199243351, 150748227, 54762167, 54762609, 150568002, 158720374, 67516739, 67020194, 172210350, 205994944, 160393397, 205614791, 172283135, 172283470, 173854947, 172322104, 205226439, 205224186, 72574917, 155764985, 73498258, 155614158, 198364527, 125516655, 92142554, 176663149, 32928262, 90979601, 197731600, 163685308, 35087712, 171554484, 89611925, 176251118, 92136399, 92137226, 99183754, 203951905, 34148045, 126700166, 155613887, 111587518, 171798422, 86401738, 161028544, 75401492, 75716217, 34148419, 144162512, 162175288, 99325284, 99329103, 17616580, 73598482, 73748479, 195882562, 158790448, 116125747, 116105914, 31637590, 176897877, 68200548, 31638135, 172305521, 114446808, 130858100, 145680551, 31638205, 162033134, 172079837, 14064627, 73485306, 112064344, 22654030, 56614642, 134647757, 165031772, 76271955, 19739155, 20526933, 82947907, 142409966, 83157004, 163032507, 186133766, 46699028, 151799395, 45242530, 164338704, 84567772, 200039714, 99958075, 85086748, 143599914, 20573904, 163149118, 43161858, 150685095, 169467564, 42899542, 54446837, 148994401, 151800968, 162817668, 208071056, 76437071, 137863363, 53281166, 162427290, 20518115, 99482495, 147444526, 20518720, 79435123, 172280631, 152209741, 105297516, 163543524, 88011112, 41083401, 68202834, 163698098, 126146318, 172120459, 147805800, 126596446, 160418420, 162148842, 168224742, 161455980, 163904210, 166439321, 183742098, 133821238, 145306217, 145266582, 181114097, 164310260, 180747197, 151799931, 144227349, 143275087, 144171958, 153555110, 95054251, 124853078, 105260678, 104188520, 104080625, 30886833, 49165591, 100023913, 74209205, 52188800, 52189164, 99484301, 99472055, 52251333, 98942159, 53745830, 98690795, 196148746, 98622338, 97057130, 94808227, 94563328, 63931679, 67538621, 67539810, 70979877, 71909603, 205231567, 72513159, 73214429, 75601328, 75329276, 193424832, 52184516, 22559187, 107896589, 4965821, 11270133, 15050831, 15413966, 116149583, 188718369, 111972654, 110181593, 190515998, 190516091, 109403033, 20518464, 20526900, 74404407, 105529766, 105357458, 22490714, 22760941, 62365055, 15784024, 24250579, 67540651, 67616960, 67730631, 67908439, 70627705, 70938045, 172282390, 158790340, 62331443, 71053032, 248193855, 71985742, 72295699, 11203758, 9730171, 173354664, 7599073, 22654009, 73365866, 73742258, 161028589, 58962353, 47099868, 58221635, 50225516, 51551126, 22490218, 36573622, 163546188, 20261362, 34707251, 22492292, 30768234, 52848986, 29976829, 164455074, 221277108, 54713517, 164239110, 162174677, 29408823, 54761601, 22610869, 55473422, 56919853, 17912482, 57758774, 16050321, 58208620, 55411656, 81715241, 74536479, 106764912, 193212355, 104871209, 104192913, 179216239, 141959880, 142620563, 104064701, 142781683, 102122394, 102107857, 101656633, 178585201, 101458436, 99994626, 99836488, 105275706, 191390757, 144240428, 107801368, 125831790, 118900531, 117919594, 4523565, 116341425, 116150052, 115832681, 114323545, 114144333, 110704393, 110694486, 182968034, 108593536, 108336042, 107962045, 155391197, 99508026, 86276788, 200852174, 198308678, 85255932, 174305428, 84777124, 83519755, 82947350, 200560852, 125800026, 150213927, 81209773, 81141012, 78967786, 78501183, 76537581, 76121291, 174177843, 99410538, 168872132, 86813448, 95052893, 177496110, 177309367, 176769589, 97823540, 147443890, 149642300, 96159834, 196467846, 92807600, 91407035, 89464375, 87473769, 87392508, 196369916, 215072155, 214153201, 174179326, 186552687, 185448417, 195233535, 4426117, 168811248, 78946581, 57800471, 104904605, 21601483, 22186536, 132103767, 85790914, 85113305, 81712020, 54749125, 148676799, 30763822, 103546447, 81715262, 50347611, 146134703, 48275273, 47270550, 101656788, 144232133, 100379872, 35193606, 58987438, 20990241, 19716301, 19638485, 76121693, 164454982, 7045887, 164230858, 164209878, 72575002, 107186342, 72283143, 109840857, 160884442, 111670297, 11345710, 89051348, 76695833, 91923968, 12020824, 111599765, 122762684, 41654783, 67595415, 123631732, 139002166, 71153341, 49009139, 109405991, 72573548, 43512493, 99995337, 76099933, 83393951, 220668927, 94107643, 15137091, 148600532, 98662048, 158790438, 7170169, 82528875, 163553232, 67429010, 188382107, 72691958, 201866818, 64235669, 17911356, 163543299, 10827819, 158790391, 191219954, 76232986, 21477434, 10833839, 72078752, 155395362, 56903242, 147205396, 34911128, 83401596, 136136563, 104064496, 37640712, 82517616, 90219503, 56748419, 83519454, 90652832, 195236357, 197225345, 82514193, 106281201, 99306343, 90195327, 94692862, 101789209, 106605587, 192725422, 193490696, 85087124, 76698261, 201384530, 85087695, 198192659, 94776429, 104913896, 99487988, 184800905, 191926050, 141663092, 146080002, 146080196, 177274354, 31591532, 176789430, 31141663, 29566201, 23305693, 176134676, 174561781, 150724438, 151423676, 152292752, 155881663, 229740705, 11531573, 160884060, 161028657, 250459202, 179414501, 215072257, 203790152, 183948366, 72688456, 207236298, 66954007, 208070825, 115119322, 122069831, 141000723, 55491964, 183492044, 137181650, 182710825, 52385888, 137666840, 180925796, 180747208, 44003442, 90572771, 58955747, 67231390, 68096561, 117083129, 162033266, 91588865, 109408146, 133810672, 164454984, 109785270, 99247375, 176599682, 146080611, 122069743, 184824763, 98624092, 161028504, 101657582, 7178021, 73219234, 67294320, 82528842, 56251000, 133081685, 37943815, 150214175, 14632988, 173354393, 140523294, 12239104, 71641635, 191521107, 106985429, 17912183, 74238547, 75380722, 191769722, 70937555, 104207558, 94808483, 105949328, 102865038, 81713924, 150184854, 86982736, 19760096, 75359190, 111586884, 82288770, 85087082, 105710028, 112643914, 13670345, 111668153, 73570874, 9354828, 106746036, 117918685, 97861287, 43743154, 111650591, 138394281, 15993454, 48564731, 114333400, 180958308, 99481802, 74605570, 173813775, 81714071, 201115975, 144124365, 111673459, 143148823, 52498455, 84429549, 180328972, 173998078, 158651934, 242087076, 162097090, 202881383, 194863309, 188916245, 115125068, 181422987, 77901590, 201116083, 79723238, 99482347, 192217752, 75142258, 105950614, 191918274, 90066633, 109408556, 68891563, 29115771, 165995243, 15997524, 141959833, 154887276, 119390326, 43103730, 84963179, 146231841, 31502498, 68165978, 203000312, 182084163, 202880896, 170266870, 158655084, 158648057, 158673296, 112649930, 193431711, 173277510, 173387805, 97865374, 217440155, 180746955, 98655036, 113417813, 192218280, 157073007, 98623160, 137947751, 105259916, 173188710, 180396839, 151845243, 197603286]\n"
     ]
    }
   ],
   "source": [
    "rating_average_lst = sort_product_by_col(\"rating_average\")\n",
    "product_review_count_lst = sort_product_by_col(\"product_review_count\")\n",
    "quantity_sold_lst = sort_product_by_col(\"quantity_sold\")\n",
    "print(rating_average_lst)"
   ]
  },
  {
   "cell_type": "code",
   "execution_count": 148,
   "metadata": {},
   "outputs": [
    {
     "data": {
      "text/html": [
       "<div>\n",
       "<style scoped>\n",
       "    .dataframe tbody tr th:only-of-type {\n",
       "        vertical-align: middle;\n",
       "    }\n",
       "\n",
       "    .dataframe tbody tr th {\n",
       "        vertical-align: top;\n",
       "    }\n",
       "\n",
       "    .dataframe thead th {\n",
       "        text-align: right;\n",
       "    }\n",
       "</style>\n",
       "<table border=\"1\" class=\"dataframe\">\n",
       "  <thead>\n",
       "    <tr style=\"text-align: right;\">\n",
       "      <th></th>\n",
       "      <th>id</th>\n",
       "      <th>name</th>\n",
       "      <th>brand</th>\n",
       "      <th>original_price</th>\n",
       "      <th>discount</th>\n",
       "      <th>current_price</th>\n",
       "      <th>discount_rate</th>\n",
       "      <th>quantity_sold</th>\n",
       "      <th>rating_average</th>\n",
       "      <th>product_review_count</th>\n",
       "      <th>seller_id</th>\n",
       "      <th>seller_name</th>\n",
       "      <th>days_since_joined</th>\n",
       "      <th>seller_rating_average</th>\n",
       "      <th>is_official</th>\n",
       "      <th>seller_review_count</th>\n",
       "      <th>total_follower</th>\n",
       "    </tr>\n",
       "  </thead>\n",
       "  <tbody>\n",
       "    <tr>\n",
       "      <th>0</th>\n",
       "      <td>86127619</td>\n",
       "      <td>ÁO THUN BODY VẢI COTTON DÀY DẶN Y ẢNH (attron)</td>\n",
       "      <td>OEM</td>\n",
       "      <td>116000</td>\n",
       "      <td>58000</td>\n",
       "      <td>58000</td>\n",
       "      <td>50</td>\n",
       "      <td>3</td>\n",
       "      <td>5.0</td>\n",
       "      <td>1</td>\n",
       "      <td>175928</td>\n",
       "      <td>xuongchuyensi9x</td>\n",
       "      <td>777</td>\n",
       "      <td>3.9713</td>\n",
       "      <td>False</td>\n",
       "      <td>348</td>\n",
       "      <td>75</td>\n",
       "    </tr>\n",
       "    <tr>\n",
       "      <th>1</th>\n",
       "      <td>174178053</td>\n",
       "      <td>Áo Polo Nam Cổ Bẻ Guzado Chất Liệu Mát Mẻ, Pho...</td>\n",
       "      <td>GUZADO</td>\n",
       "      <td>175000</td>\n",
       "      <td>0</td>\n",
       "      <td>175000</td>\n",
       "      <td>0</td>\n",
       "      <td>6</td>\n",
       "      <td>5.0</td>\n",
       "      <td>3</td>\n",
       "      <td>141397</td>\n",
       "      <td>GUZADO</td>\n",
       "      <td>1012</td>\n",
       "      <td>4.4147</td>\n",
       "      <td>True</td>\n",
       "      <td>475</td>\n",
       "      <td>244</td>\n",
       "    </tr>\n",
       "    <tr>\n",
       "      <th>2</th>\n",
       "      <td>200927239</td>\n",
       "      <td>Áo PoLo form rộng phong cách Hàn Quốc thêu chữ...</td>\n",
       "      <td>OEM</td>\n",
       "      <td>79000</td>\n",
       "      <td>0</td>\n",
       "      <td>79000</td>\n",
       "      <td>0</td>\n",
       "      <td>2</td>\n",
       "      <td>5.0</td>\n",
       "      <td>1</td>\n",
       "      <td>309390</td>\n",
       "      <td>LyLa Shop</td>\n",
       "      <td>214</td>\n",
       "      <td>4.7500</td>\n",
       "      <td>False</td>\n",
       "      <td>4</td>\n",
       "      <td>3</td>\n",
       "    </tr>\n",
       "    <tr>\n",
       "      <th>3</th>\n",
       "      <td>103076103</td>\n",
       "      <td>áo ba lỗ nam, áo 3 lỗ nam sợi cotton Orga...</td>\n",
       "      <td>JAMANO</td>\n",
       "      <td>99000</td>\n",
       "      <td>20000</td>\n",
       "      <td>79000</td>\n",
       "      <td>20</td>\n",
       "      <td>871</td>\n",
       "      <td>4.8</td>\n",
       "      <td>98</td>\n",
       "      <td>147336</td>\n",
       "      <td>JM STORE</td>\n",
       "      <td>976</td>\n",
       "      <td>4.6942</td>\n",
       "      <td>False</td>\n",
       "      <td>3898</td>\n",
       "      <td>910</td>\n",
       "    </tr>\n",
       "    <tr>\n",
       "      <th>4</th>\n",
       "      <td>110704393</td>\n",
       "      <td>Combo 2 quần đùi nam Cotton mặc nhà thoải...</td>\n",
       "      <td>JAMANO</td>\n",
       "      <td>140000</td>\n",
       "      <td>41000</td>\n",
       "      <td>99000</td>\n",
       "      <td>29</td>\n",
       "      <td>1161</td>\n",
       "      <td>4.5</td>\n",
       "      <td>234</td>\n",
       "      <td>147336</td>\n",
       "      <td>JM STORE</td>\n",
       "      <td>976</td>\n",
       "      <td>4.6942</td>\n",
       "      <td>False</td>\n",
       "      <td>3898</td>\n",
       "      <td>910</td>\n",
       "    </tr>\n",
       "    <tr>\n",
       "      <th>...</th>\n",
       "      <td>...</td>\n",
       "      <td>...</td>\n",
       "      <td>...</td>\n",
       "      <td>...</td>\n",
       "      <td>...</td>\n",
       "      <td>...</td>\n",
       "      <td>...</td>\n",
       "      <td>...</td>\n",
       "      <td>...</td>\n",
       "      <td>...</td>\n",
       "      <td>...</td>\n",
       "      <td>...</td>\n",
       "      <td>...</td>\n",
       "      <td>...</td>\n",
       "      <td>...</td>\n",
       "      <td>...</td>\n",
       "      <td>...</td>\n",
       "    </tr>\n",
       "    <tr>\n",
       "      <th>108</th>\n",
       "      <td>76537581</td>\n",
       "      <td>Quần Jean Nam Đen Trơn cao cấp thương hiệu Cha...</td>\n",
       "      <td>Chandi</td>\n",
       "      <td>280000</td>\n",
       "      <td>112000</td>\n",
       "      <td>168000</td>\n",
       "      <td>40</td>\n",
       "      <td>2140</td>\n",
       "      <td>4.5</td>\n",
       "      <td>706</td>\n",
       "      <td>18150</td>\n",
       "      <td>CHANDI OFFICIAL STORE</td>\n",
       "      <td>1593</td>\n",
       "      <td>4.5967</td>\n",
       "      <td>True</td>\n",
       "      <td>10013</td>\n",
       "      <td>1663</td>\n",
       "    </tr>\n",
       "    <tr>\n",
       "      <th>109</th>\n",
       "      <td>22760941</td>\n",
       "      <td>Combo 3 Áo thun nam cổ bẻ [ Tặng 1 quần lót xị...</td>\n",
       "      <td>dokafashion</td>\n",
       "      <td>406000</td>\n",
       "      <td>127500</td>\n",
       "      <td>278500</td>\n",
       "      <td>31</td>\n",
       "      <td>370</td>\n",
       "      <td>4.5</td>\n",
       "      <td>204</td>\n",
       "      <td>13906</td>\n",
       "      <td>Doka Fashion</td>\n",
       "      <td>1637</td>\n",
       "      <td>4.4620</td>\n",
       "      <td>True</td>\n",
       "      <td>1686</td>\n",
       "      <td>352</td>\n",
       "    </tr>\n",
       "    <tr>\n",
       "      <th>110</th>\n",
       "      <td>20261362</td>\n",
       "      <td>Bộ 5 Quần Lót Nam Nhật Thông Hơi Cao Cấp (Giao...</td>\n",
       "      <td>OEM</td>\n",
       "      <td>88000</td>\n",
       "      <td>0</td>\n",
       "      <td>88000</td>\n",
       "      <td>0</td>\n",
       "      <td>967</td>\n",
       "      <td>4.5</td>\n",
       "      <td>90</td>\n",
       "      <td>10911</td>\n",
       "      <td>5Star</td>\n",
       "      <td>1680</td>\n",
       "      <td>4.3544</td>\n",
       "      <td>False</td>\n",
       "      <td>4216</td>\n",
       "      <td>469</td>\n",
       "    </tr>\n",
       "    <tr>\n",
       "      <th>111</th>\n",
       "      <td>198320889</td>\n",
       "      <td>Áo polo nam A-CHILL TOUCH Anta 852237122</td>\n",
       "      <td>ANTA</td>\n",
       "      <td>1079000</td>\n",
       "      <td>323700</td>\n",
       "      <td>755300</td>\n",
       "      <td>30</td>\n",
       "      <td>2</td>\n",
       "      <td>5.0</td>\n",
       "      <td>2</td>\n",
       "      <td>6194</td>\n",
       "      <td>ANTA VIETNAM</td>\n",
       "      <td>1774</td>\n",
       "      <td>4.7441</td>\n",
       "      <td>True</td>\n",
       "      <td>4017</td>\n",
       "      <td>10447</td>\n",
       "    </tr>\n",
       "    <tr>\n",
       "      <th>112</th>\n",
       "      <td>205968893</td>\n",
       "      <td>The Next Generation, mã G42. Áo thun siêu đẹp ...</td>\n",
       "      <td>GOKING</td>\n",
       "      <td>99000</td>\n",
       "      <td>0</td>\n",
       "      <td>99000</td>\n",
       "      <td>0</td>\n",
       "      <td>2</td>\n",
       "      <td>5.0</td>\n",
       "      <td>1</td>\n",
       "      <td>18138</td>\n",
       "      <td>GOKING</td>\n",
       "      <td>1594</td>\n",
       "      <td>4.6655</td>\n",
       "      <td>False</td>\n",
       "      <td>9089</td>\n",
       "      <td>2678</td>\n",
       "    </tr>\n",
       "  </tbody>\n",
       "</table>\n",
       "<p>113 rows × 17 columns</p>\n",
       "</div>"
      ],
      "text/plain": [
       "            id                                               name   \n",
       "0     86127619     ÁO THUN BODY VẢI COTTON DÀY DẶN Y ẢNH (attron)  \\\n",
       "1    174178053  Áo Polo Nam Cổ Bẻ Guzado Chất Liệu Mát Mẻ, Pho...   \n",
       "2    200927239  Áo PoLo form rộng phong cách Hàn Quốc thêu chữ...   \n",
       "3    103076103  áo ba lỗ nam, áo 3 lỗ nam sợi cotton Orga...   \n",
       "4    110704393  Combo 2 quần đùi nam Cotton mặc nhà thoải...   \n",
       "..         ...                                                ...   \n",
       "108   76537581  Quần Jean Nam Đen Trơn cao cấp thương hiệu Cha...   \n",
       "109   22760941  Combo 3 Áo thun nam cổ bẻ [ Tặng 1 quần lót xị...   \n",
       "110   20261362  Bộ 5 Quần Lót Nam Nhật Thông Hơi Cao Cấp (Giao...   \n",
       "111  198320889           Áo polo nam A-CHILL TOUCH Anta 852237122   \n",
       "112  205968893  The Next Generation, mã G42. Áo thun siêu đẹp ...   \n",
       "\n",
       "           brand  original_price  discount  current_price  discount_rate   \n",
       "0            OEM          116000     58000          58000             50  \\\n",
       "1         GUZADO          175000         0         175000              0   \n",
       "2            OEM           79000         0          79000              0   \n",
       "3         JAMANO           99000     20000          79000             20   \n",
       "4         JAMANO          140000     41000          99000             29   \n",
       "..           ...             ...       ...            ...            ...   \n",
       "108       Chandi          280000    112000         168000             40   \n",
       "109  dokafashion          406000    127500         278500             31   \n",
       "110          OEM           88000         0          88000              0   \n",
       "111         ANTA         1079000    323700         755300             30   \n",
       "112       GOKING           99000         0          99000              0   \n",
       "\n",
       "     quantity_sold  rating_average  product_review_count  seller_id   \n",
       "0                3             5.0                     1     175928  \\\n",
       "1                6             5.0                     3     141397   \n",
       "2                2             5.0                     1     309390   \n",
       "3              871             4.8                    98     147336   \n",
       "4             1161             4.5                   234     147336   \n",
       "..             ...             ...                   ...        ...   \n",
       "108           2140             4.5                   706      18150   \n",
       "109            370             4.5                   204      13906   \n",
       "110            967             4.5                    90      10911   \n",
       "111              2             5.0                     2       6194   \n",
       "112              2             5.0                     1      18138   \n",
       "\n",
       "               seller_name  days_since_joined  seller_rating_average   \n",
       "0          xuongchuyensi9x                777                 3.9713  \\\n",
       "1                   GUZADO               1012                 4.4147   \n",
       "2                LyLa Shop                214                 4.7500   \n",
       "3                 JM STORE                976                 4.6942   \n",
       "4                 JM STORE                976                 4.6942   \n",
       "..                     ...                ...                    ...   \n",
       "108  CHANDI OFFICIAL STORE               1593                 4.5967   \n",
       "109           Doka Fashion               1637                 4.4620   \n",
       "110                  5Star               1680                 4.3544   \n",
       "111           ANTA VIETNAM               1774                 4.7441   \n",
       "112                 GOKING               1594                 4.6655   \n",
       "\n",
       "     is_official  seller_review_count  total_follower  \n",
       "0          False                  348              75  \n",
       "1           True                  475             244  \n",
       "2          False                    4               3  \n",
       "3          False                 3898             910  \n",
       "4          False                 3898             910  \n",
       "..           ...                  ...             ...  \n",
       "108         True                10013            1663  \n",
       "109         True                 1686             352  \n",
       "110        False                 4216             469  \n",
       "111         True                 4017           10447  \n",
       "112        False                 9089            2678  \n",
       "\n",
       "[113 rows x 17 columns]"
      ]
     },
     "execution_count": 148,
     "metadata": {},
     "output_type": "execute_result"
    }
   ],
   "source": [
    "def top_k_common_elements(list1, list2, list3, k=10):\n",
    "    list1, list2, list3 = list1[:k], list2[:k], list3[:k]\n",
    "    return list(set(list1) | set(list2) | set(list3))\n",
    "        \n",
    "ids = top_k_common_elements(rating_average_lst, product_review_count_lst, quantity_sold_lst, 50)\n",
    "\n",
    "result = pd.DataFrame()\n",
    "for id in ids:\n",
    "    result = pd.concat([result, df.loc[df['id'] == id]], ignore_index=True)\n",
    "result"
   ]
  },
  {
   "attachments": {},
   "cell_type": "markdown",
   "metadata": {},
   "source": [
    "## Top người bán uy tín"
   ]
  },
  {
   "attachments": {},
   "cell_type": "markdown",
   "metadata": {},
   "source": [
    "> Giao của seller_avg_rating, review_count (of seller), total_follower + Show ra table của các sản phẩm này (top 100)"
   ]
  },
  {
   "cell_type": "code",
   "execution_count": 146,
   "metadata": {},
   "outputs": [
    {
     "name": "stdout",
     "output_type": "stream",
     "text": [
      "Sản phẩm bán chạy nhất: \n",
      "28\n"
     ]
    },
    {
     "data": {
      "text/html": [
       "<div>\n",
       "<style scoped>\n",
       "    .dataframe tbody tr th:only-of-type {\n",
       "        vertical-align: middle;\n",
       "    }\n",
       "\n",
       "    .dataframe tbody tr th {\n",
       "        vertical-align: top;\n",
       "    }\n",
       "\n",
       "    .dataframe thead th {\n",
       "        text-align: right;\n",
       "    }\n",
       "</style>\n",
       "<table border=\"1\" class=\"dataframe\">\n",
       "  <thead>\n",
       "    <tr style=\"text-align: right;\">\n",
       "      <th></th>\n",
       "      <th>id</th>\n",
       "      <th>name</th>\n",
       "      <th>brand</th>\n",
       "      <th>original_price</th>\n",
       "      <th>discount</th>\n",
       "      <th>current_price</th>\n",
       "      <th>discount_rate</th>\n",
       "      <th>quantity_sold</th>\n",
       "      <th>rating_average</th>\n",
       "      <th>product_review_count</th>\n",
       "      <th>seller_id</th>\n",
       "      <th>seller_name</th>\n",
       "      <th>days_since_joined</th>\n",
       "      <th>seller_rating_average</th>\n",
       "      <th>is_official</th>\n",
       "      <th>seller_review_count</th>\n",
       "      <th>total_follower</th>\n",
       "    </tr>\n",
       "  </thead>\n",
       "  <tbody>\n",
       "    <tr>\n",
       "      <th>28</th>\n",
       "      <td>67538621</td>\n",
       "      <td>COmbo 5 quần ĐÙI May 10</td>\n",
       "      <td>May 10</td>\n",
       "      <td>135000</td>\n",
       "      <td>15000</td>\n",
       "      <td>120000</td>\n",
       "      <td>11</td>\n",
       "      <td>15128</td>\n",
       "      <td>4.6</td>\n",
       "      <td>4681</td>\n",
       "      <td>16588</td>\n",
       "      <td>May 10</td>\n",
       "      <td>1607</td>\n",
       "      <td>4.574</td>\n",
       "      <td>False</td>\n",
       "      <td>7998</td>\n",
       "      <td>2295</td>\n",
       "    </tr>\n",
       "  </tbody>\n",
       "</table>\n",
       "</div>"
      ],
      "text/plain": [
       "          id                     name   brand  original_price  discount   \n",
       "28  67538621  COmbo 5 quần ĐÙI May 10  May 10          135000     15000  \\\n",
       "\n",
       "    current_price  discount_rate  quantity_sold  rating_average   \n",
       "28         120000             11          15128             4.6  \\\n",
       "\n",
       "    product_review_count  seller_id seller_name  days_since_joined   \n",
       "28                  4681      16588      May 10               1607  \\\n",
       "\n",
       "    seller_rating_average  is_official  seller_review_count  total_follower  \n",
       "28                  4.574        False                 7998            2295  "
      ]
     },
     "execution_count": 146,
     "metadata": {},
     "output_type": "execute_result"
    }
   ],
   "source": [
    "print('Sản phẩm bán chạy nhất: ')\n",
    "max_price = df['quantity_sold'].idxmax()\n",
    "print(max_price)\n",
    "max_row = df.loc[[max_price]]\n",
    "max_row"
   ]
  },
  {
   "cell_type": "code",
   "execution_count": 147,
   "metadata": {},
   "outputs": [
    {
     "name": "stdout",
     "output_type": "stream",
     "text": [
      "Sản phẩm bán được ít nhất: \n"
     ]
    },
    {
     "ename": "KeyError",
     "evalue": "\"['price', 'review_count'] not in index\"",
     "output_type": "error",
     "traceback": [
      "\u001b[1;31m---------------------------------------------------------------------------\u001b[0m",
      "\u001b[1;31mKeyError\u001b[0m                                  Traceback (most recent call last)",
      "Cell \u001b[1;32mIn[147], line 3\u001b[0m\n\u001b[0;32m      1\u001b[0m \u001b[39mprint\u001b[39m(\u001b[39m'\u001b[39m\u001b[39mSản phẩm bán được ít nhất: \u001b[39m\u001b[39m'\u001b[39m)\n\u001b[0;32m      2\u001b[0m max_price \u001b[39m=\u001b[39m df[\u001b[39m'\u001b[39m\u001b[39mquantity_sold\u001b[39m\u001b[39m'\u001b[39m]\u001b[39m.\u001b[39midxmin()\n\u001b[1;32m----> 3\u001b[0m max_row \u001b[39m=\u001b[39m df\u001b[39m.\u001b[39;49mloc[[max_price], [\u001b[39m'\u001b[39;49m\u001b[39mbrand\u001b[39;49m\u001b[39m'\u001b[39;49m, \u001b[39m'\u001b[39;49m\u001b[39moriginal_price\u001b[39;49m\u001b[39m'\u001b[39;49m, \u001b[39m'\u001b[39;49m\u001b[39mprice\u001b[39;49m\u001b[39m'\u001b[39;49m, \u001b[39m'\u001b[39;49m\u001b[39mdiscount\u001b[39;49m\u001b[39m'\u001b[39;49m, \u001b[39m'\u001b[39;49m\u001b[39mdiscount_rate\u001b[39;49m\u001b[39m'\u001b[39;49m, \u001b[39m'\u001b[39;49m\u001b[39mquantity_sold\u001b[39;49m\u001b[39m'\u001b[39;49m, \u001b[39m'\u001b[39;49m\u001b[39mrating_average\u001b[39;49m\u001b[39m'\u001b[39;49m, \u001b[39m'\u001b[39;49m\u001b[39mreview_count\u001b[39;49m\u001b[39m'\u001b[39;49m, \u001b[39m'\u001b[39;49m\u001b[39mis_official\u001b[39;49m\u001b[39m'\u001b[39;49m]]\n\u001b[0;32m      4\u001b[0m max_row\n",
      "File \u001b[1;32mc:\\Users\\ADMIN\\AppData\\Local\\Programs\\Python\\Python311\\Lib\\site-packages\\pandas\\core\\indexing.py:1097\u001b[0m, in \u001b[0;36m_LocationIndexer.__getitem__\u001b[1;34m(self, key)\u001b[0m\n\u001b[0;32m   1095\u001b[0m     \u001b[39mif\u001b[39;00m \u001b[39mself\u001b[39m\u001b[39m.\u001b[39m_is_scalar_access(key):\n\u001b[0;32m   1096\u001b[0m         \u001b[39mreturn\u001b[39;00m \u001b[39mself\u001b[39m\u001b[39m.\u001b[39mobj\u001b[39m.\u001b[39m_get_value(\u001b[39m*\u001b[39mkey, takeable\u001b[39m=\u001b[39m\u001b[39mself\u001b[39m\u001b[39m.\u001b[39m_takeable)\n\u001b[1;32m-> 1097\u001b[0m     \u001b[39mreturn\u001b[39;00m \u001b[39mself\u001b[39;49m\u001b[39m.\u001b[39;49m_getitem_tuple(key)\n\u001b[0;32m   1098\u001b[0m \u001b[39melse\u001b[39;00m:\n\u001b[0;32m   1099\u001b[0m     \u001b[39m# we by definition only have the 0th axis\u001b[39;00m\n\u001b[0;32m   1100\u001b[0m     axis \u001b[39m=\u001b[39m \u001b[39mself\u001b[39m\u001b[39m.\u001b[39maxis \u001b[39mor\u001b[39;00m \u001b[39m0\u001b[39m\n",
      "File \u001b[1;32mc:\\Users\\ADMIN\\AppData\\Local\\Programs\\Python\\Python311\\Lib\\site-packages\\pandas\\core\\indexing.py:1287\u001b[0m, in \u001b[0;36m_LocIndexer._getitem_tuple\u001b[1;34m(self, tup)\u001b[0m\n\u001b[0;32m   1285\u001b[0m \u001b[39m# ugly hack for GH #836\u001b[39;00m\n\u001b[0;32m   1286\u001b[0m \u001b[39mif\u001b[39;00m \u001b[39mself\u001b[39m\u001b[39m.\u001b[39m_multi_take_opportunity(tup):\n\u001b[1;32m-> 1287\u001b[0m     \u001b[39mreturn\u001b[39;00m \u001b[39mself\u001b[39;49m\u001b[39m.\u001b[39;49m_multi_take(tup)\n\u001b[0;32m   1289\u001b[0m \u001b[39mreturn\u001b[39;00m \u001b[39mself\u001b[39m\u001b[39m.\u001b[39m_getitem_tuple_same_dim(tup)\n",
      "File \u001b[1;32mc:\\Users\\ADMIN\\AppData\\Local\\Programs\\Python\\Python311\\Lib\\site-packages\\pandas\\core\\indexing.py:1238\u001b[0m, in \u001b[0;36m_LocIndexer._multi_take\u001b[1;34m(self, tup)\u001b[0m\n\u001b[0;32m   1222\u001b[0m \u001b[39m\u001b[39m\u001b[39m\"\"\"\u001b[39;00m\n\u001b[0;32m   1223\u001b[0m \u001b[39mCreate the indexers for the passed tuple of keys, and\u001b[39;00m\n\u001b[0;32m   1224\u001b[0m \u001b[39mexecutes the take operation. This allows the take operation to be\u001b[39;00m\n\u001b[1;32m   (...)\u001b[0m\n\u001b[0;32m   1235\u001b[0m \u001b[39mvalues: same type as the object being indexed\u001b[39;00m\n\u001b[0;32m   1236\u001b[0m \u001b[39m\"\"\"\u001b[39;00m\n\u001b[0;32m   1237\u001b[0m \u001b[39m# GH 836\u001b[39;00m\n\u001b[1;32m-> 1238\u001b[0m d \u001b[39m=\u001b[39m {\n\u001b[0;32m   1239\u001b[0m     axis: \u001b[39mself\u001b[39;49m\u001b[39m.\u001b[39;49m_get_listlike_indexer(key, axis)\n\u001b[0;32m   1240\u001b[0m     \u001b[39mfor\u001b[39;49;00m (key, axis) \u001b[39min\u001b[39;49;00m \u001b[39mzip\u001b[39;49m(tup, \u001b[39mself\u001b[39;49m\u001b[39m.\u001b[39;49mobj\u001b[39m.\u001b[39;49m_AXIS_ORDERS)\n\u001b[0;32m   1241\u001b[0m }\n\u001b[0;32m   1242\u001b[0m \u001b[39mreturn\u001b[39;00m \u001b[39mself\u001b[39m\u001b[39m.\u001b[39mobj\u001b[39m.\u001b[39m_reindex_with_indexers(d, copy\u001b[39m=\u001b[39m\u001b[39mTrue\u001b[39;00m, allow_dups\u001b[39m=\u001b[39m\u001b[39mTrue\u001b[39;00m)\n",
      "File \u001b[1;32mc:\\Users\\ADMIN\\AppData\\Local\\Programs\\Python\\Python311\\Lib\\site-packages\\pandas\\core\\indexing.py:1239\u001b[0m, in \u001b[0;36m<dictcomp>\u001b[1;34m(.0)\u001b[0m\n\u001b[0;32m   1222\u001b[0m \u001b[39m\u001b[39m\u001b[39m\"\"\"\u001b[39;00m\n\u001b[0;32m   1223\u001b[0m \u001b[39mCreate the indexers for the passed tuple of keys, and\u001b[39;00m\n\u001b[0;32m   1224\u001b[0m \u001b[39mexecutes the take operation. This allows the take operation to be\u001b[39;00m\n\u001b[1;32m   (...)\u001b[0m\n\u001b[0;32m   1235\u001b[0m \u001b[39mvalues: same type as the object being indexed\u001b[39;00m\n\u001b[0;32m   1236\u001b[0m \u001b[39m\"\"\"\u001b[39;00m\n\u001b[0;32m   1237\u001b[0m \u001b[39m# GH 836\u001b[39;00m\n\u001b[0;32m   1238\u001b[0m d \u001b[39m=\u001b[39m {\n\u001b[1;32m-> 1239\u001b[0m     axis: \u001b[39mself\u001b[39;49m\u001b[39m.\u001b[39;49m_get_listlike_indexer(key, axis)\n\u001b[0;32m   1240\u001b[0m     \u001b[39mfor\u001b[39;00m (key, axis) \u001b[39min\u001b[39;00m \u001b[39mzip\u001b[39m(tup, \u001b[39mself\u001b[39m\u001b[39m.\u001b[39mobj\u001b[39m.\u001b[39m_AXIS_ORDERS)\n\u001b[0;32m   1241\u001b[0m }\n\u001b[0;32m   1242\u001b[0m \u001b[39mreturn\u001b[39;00m \u001b[39mself\u001b[39m\u001b[39m.\u001b[39mobj\u001b[39m.\u001b[39m_reindex_with_indexers(d, copy\u001b[39m=\u001b[39m\u001b[39mTrue\u001b[39;00m, allow_dups\u001b[39m=\u001b[39m\u001b[39mTrue\u001b[39;00m)\n",
      "File \u001b[1;32mc:\\Users\\ADMIN\\AppData\\Local\\Programs\\Python\\Python311\\Lib\\site-packages\\pandas\\core\\indexing.py:1462\u001b[0m, in \u001b[0;36m_LocIndexer._get_listlike_indexer\u001b[1;34m(self, key, axis)\u001b[0m\n\u001b[0;32m   1459\u001b[0m ax \u001b[39m=\u001b[39m \u001b[39mself\u001b[39m\u001b[39m.\u001b[39mobj\u001b[39m.\u001b[39m_get_axis(axis)\n\u001b[0;32m   1460\u001b[0m axis_name \u001b[39m=\u001b[39m \u001b[39mself\u001b[39m\u001b[39m.\u001b[39mobj\u001b[39m.\u001b[39m_get_axis_name(axis)\n\u001b[1;32m-> 1462\u001b[0m keyarr, indexer \u001b[39m=\u001b[39m ax\u001b[39m.\u001b[39;49m_get_indexer_strict(key, axis_name)\n\u001b[0;32m   1464\u001b[0m \u001b[39mreturn\u001b[39;00m keyarr, indexer\n",
      "File \u001b[1;32mc:\\Users\\ADMIN\\AppData\\Local\\Programs\\Python\\Python311\\Lib\\site-packages\\pandas\\core\\indexes\\base.py:5876\u001b[0m, in \u001b[0;36mIndex._get_indexer_strict\u001b[1;34m(self, key, axis_name)\u001b[0m\n\u001b[0;32m   5873\u001b[0m \u001b[39melse\u001b[39;00m:\n\u001b[0;32m   5874\u001b[0m     keyarr, indexer, new_indexer \u001b[39m=\u001b[39m \u001b[39mself\u001b[39m\u001b[39m.\u001b[39m_reindex_non_unique(keyarr)\n\u001b[1;32m-> 5876\u001b[0m \u001b[39mself\u001b[39;49m\u001b[39m.\u001b[39;49m_raise_if_missing(keyarr, indexer, axis_name)\n\u001b[0;32m   5878\u001b[0m keyarr \u001b[39m=\u001b[39m \u001b[39mself\u001b[39m\u001b[39m.\u001b[39mtake(indexer)\n\u001b[0;32m   5879\u001b[0m \u001b[39mif\u001b[39;00m \u001b[39misinstance\u001b[39m(key, Index):\n\u001b[0;32m   5880\u001b[0m     \u001b[39m# GH 42790 - Preserve name from an Index\u001b[39;00m\n",
      "File \u001b[1;32mc:\\Users\\ADMIN\\AppData\\Local\\Programs\\Python\\Python311\\Lib\\site-packages\\pandas\\core\\indexes\\base.py:5938\u001b[0m, in \u001b[0;36mIndex._raise_if_missing\u001b[1;34m(self, key, indexer, axis_name)\u001b[0m\n\u001b[0;32m   5935\u001b[0m     \u001b[39mraise\u001b[39;00m \u001b[39mKeyError\u001b[39;00m(\u001b[39mf\u001b[39m\u001b[39m\"\u001b[39m\u001b[39mNone of [\u001b[39m\u001b[39m{\u001b[39;00mkey\u001b[39m}\u001b[39;00m\u001b[39m] are in the [\u001b[39m\u001b[39m{\u001b[39;00maxis_name\u001b[39m}\u001b[39;00m\u001b[39m]\u001b[39m\u001b[39m\"\u001b[39m)\n\u001b[0;32m   5937\u001b[0m not_found \u001b[39m=\u001b[39m \u001b[39mlist\u001b[39m(ensure_index(key)[missing_mask\u001b[39m.\u001b[39mnonzero()[\u001b[39m0\u001b[39m]]\u001b[39m.\u001b[39munique())\n\u001b[1;32m-> 5938\u001b[0m \u001b[39mraise\u001b[39;00m \u001b[39mKeyError\u001b[39;00m(\u001b[39mf\u001b[39m\u001b[39m\"\u001b[39m\u001b[39m{\u001b[39;00mnot_found\u001b[39m}\u001b[39;00m\u001b[39m not in index\u001b[39m\u001b[39m\"\u001b[39m)\n",
      "\u001b[1;31mKeyError\u001b[0m: \"['price', 'review_count'] not in index\""
     ]
    }
   ],
   "source": [
    "print('Sản phẩm bán được ít nhất: ')\n",
    "max_price = df['quantity_sold'].idxmin()\n",
    "max_row = df.loc[[max_price], ['brand', 'original_price', 'price', 'discount', 'discount_rate', 'quantity_sold', 'rating_average', 'review_count', 'is_official']]\n",
    "max_row"
   ]
  },
  {
   "cell_type": "code",
   "execution_count": null,
   "metadata": {},
   "outputs": [
    {
     "data": {
      "text/plain": [
       "<Axes: xlabel='rating_average', ylabel='count'>"
      ]
     },
     "execution_count": 30,
     "metadata": {},
     "output_type": "execute_result"
    },
    {
     "data": {
      "image/png": "[encoded data removed]",
      "text/plain": [
       "<Figure size 640x480 with 1 Axes>"
      ]
     },
     "metadata": {},
     "output_type": "display_data"
    }
   ],
   "source": [
    "sns.countplot(x = df['rating_average'])"
   ]
  },
  {
   "cell_type": "code",
   "execution_count": null,
   "metadata": {},
   "outputs": [],
   "source": []
  }
 ],
 "metadata": {
  "kernelspec": {
   "display_name": "Python 3",
   "language": "python",
   "name": "python3"
  },
  "language_info": {
   "codemirror_mode": {
    "name": "ipython",
    "version": 3
   },
   "file_extension": ".py",
   "mimetype": "text/x-python",
   "name": "python",
   "nbconvert_exporter": "python",
   "pygments_lexer": "ipython3",
   "version": "3.11.3"
  },
  "orig_nbformat": 4
 },
 "nbformat": 4,
 "nbformat_minor": 2
}
